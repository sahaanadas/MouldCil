{
  "nbformat": 4,
  "nbformat_minor": 0,
  "metadata": {
    "colab": {
      "name": "Mouldcil 1.ipynb",
      "provenance": []
    },
    "kernelspec": {
      "name": "python3",
      "display_name": "Python 3"
    }
  },
  "cells": [
    {
      "cell_type": "code",
      "metadata": {
        "id": "weYsjTM9Te96"
      },
      "source": [
        "from skimage import measure\n",
        "import numpy as np\n",
        "import torch\n",
        "from .sdf import create_grid, eval_grid_octree, eval_grid\n",
        "from skimage import measure\n",
        "\n",
        "\n",
        "def reconstruction(net, cuda, calib_tensor,\n",
        "                   resolution, b_min, b_max,\n",
        "                   use_octree=False, num_samples=10000, transform=None):\n",
        "  \n",
        "   \n",
        "    coords, mat = create_grid(resolution, resolution, resolution,\n",
        "                              b_min, b_max, transform=transform)\n",
        "\n",
        "    def eval_func(points):\n",
        "        points = np.expand_dims(points, axis=0)\n",
        "        points = np.repeat(points, net.num_views, axis=0)\n",
        "        samples = torch.from_numpy(points).to(device=cuda).float()\n",
        "        net.query(samples, calib_tensor)\n",
        "        pred = net.get_preds()[0][0]\n",
        "        return pred.detach().cpu().numpy()\n",
        "\n",
        "\n",
        "    if use_octree:\n",
        "        sdf = eval_grid_octree(coords, eval_func, num_samples=num_samples)\n",
        "    else:\n",
        "        sdf = eval_grid(coords, eval_func, num_samples=num_samples)\n",
        "\n",
        "\n",
        "    try:\n",
        "        verts, faces, normals, values = measure.marching_cubes_lewiner(sdf, 0.5)\n",
        "\n",
        "        verts = np.matmul(mat[:3, :3], verts.T) + mat[:3, 3:4]\n",
        "        verts = verts.T\n",
        "        return verts, faces, normals, values\n",
        "    except:\n",
        "        print('error cannot marching cubes')\n",
        "        return -1\n",
        "\n",
        "\n",
        "def save_obj_mesh(mesh_path, verts, faces):\n",
        "    file = open(mesh_path, 'w')\n",
        "\n",
        "    for v in verts:\n",
        "        file.write('v %.4f %.4f %.4f\\n' % (v[0], v[1], v[2]))\n",
        "    for f in faces:\n",
        "        f_plus = f + 1\n",
        "        file.write('f %d %d %d\\n' % (f_plus[0], f_plus[2], f_plus[1]))\n",
        "    file.close()\n",
        "\n",
        "\n",
        "def save_obj_mesh_with_color(mesh_path, verts, faces, colors):\n",
        "    file = open(mesh_path, 'w')\n",
        "\n",
        "    for idx, v in enumerate(verts):\n",
        "        c = colors[idx]\n",
        "        file.write('v %.4f %.4f %.4f %.4f %.4f %.4f\\n' % (v[0], v[1], v[2], c[0], c[1], c[2]))\n",
        "    for f in faces:\n",
        "        f_plus = f + 1\n",
        "        file.write('f %d %d %d\\n' % (f_plus[0], f_plus[2], f_plus[1]))\n",
        "    file.close()\n",
        "\n",
        "\n",
        "def save_obj_mesh_with_uv(mesh_path, verts, faces, uvs):\n",
        "    file = open(mesh_path, 'w')\n",
        "\n",
        "    for idx, v in enumerate(verts):\n",
        "        vt = uvs[idx]\n",
        "        file.write('v %.4f %.4f %.4f\\n' % (v[0], v[1], v[2]))\n",
        "        file.write('vt %.4f %.4f\\n' % (vt[0], vt[1]))\n",
        "\n",
        "    for f in faces:\n",
        "        f_plus = f + 1\n",
        "        file.write('f %d/%d %d/%d %d/%d\\n' % (f_plus[0], f_plus[0],\n",
        "                                              f_plus[2], f_plus[2],\n",
        "                                              f_plus[1], f_plus[1]))\n",
        "    file.close()"
      ],
      "execution_count": null,
      "outputs": []
    },
    {
      "cell_type": "code",
      "metadata": {
        "id": "7RoYSavhTpYg"
      },
      "source": [
        "  '''\n",
        "    Reconstruct meshes from sdf predicted by the network.\n",
        "    :param net: a BasePixImpNet object. call image filter beforehead.\n",
        "    :param cuda: cuda device\n",
        "    :param calib_tensor: calibration tensor\n",
        "    :param resolution: resolution of the grid cell\n",
        "    :param b_min: bounding box corner [x_min, y_min, z_min]\n",
        "    :param b_max: bounding box corner [x_max, y_max, z_max]\n",
        "    :param use_octree: whether to use octree acceleration\n",
        "    :param num_samples: how many points to query each gpu iteration\n",
        "    :return: marching cubes results.\n",
        "    '''"
      ],
      "execution_count": null,
      "outputs": []
    },
    {
      "cell_type": "code",
      "metadata": {
        "id": "dp7Mnx4CTtMC"
      },
      "source": [
        ""
      ],
      "execution_count": null,
      "outputs": []
    }
  ]
}